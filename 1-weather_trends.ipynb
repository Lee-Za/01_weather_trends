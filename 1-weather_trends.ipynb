{
 "cells": [
  {
   "cell_type": "markdown",
   "id": "a262deb3-fc33-4722-9602-2fed3b969a48",
   "metadata": {},
   "source": [
    "# Explore Weather Trends (Udacity Data Analysis - Project 1)"
   ]
  },
  {
   "cell_type": "markdown",
   "id": "71621028-3d7a-4340-9b7d-0c875eaed6df",
   "metadata": {},
   "source": [
    "-------------------------------------------"
   ]
  },
  {
   "cell_type": "markdown",
   "id": "625d6785-f212-4df7-acac-21e753e90d84",
   "metadata": {},
   "source": [
    "### SQL query to retrieve data from database"
   ]
  },
  {
   "cell_type": "markdown",
   "id": "490d34e4-df91-476f-8ffb-26d739c460c6",
   "metadata": {},
   "source": [
    "ALTER TABLE city_data RENAME COLUMN avg_temp TO avg_temp_berlin;\n",
    "ALTER TABLE global_data RENAME COLUMN avg_temp TO avg_temp_global;\n",
    "\n",
    "SELECT g.year, g.avg_temp_global, c.avg_temp_berlin \n",
    "FROM global_data AS g \n",
    "JOIN city_data AS c \n",
    "ON g.year = c.year WHERE c.city like 'Berlin';"
   ]
  },
  {
   "cell_type": "markdown",
   "id": "f5703720-3f40-476f-bc4a-66e8c055eb28",
   "metadata": {},
   "source": [
    "-------------------------------------------"
   ]
  },
  {
   "cell_type": "markdown",
   "id": "64e2b92f-4c14-46f5-82ca-aad4857b2f52",
   "metadata": {},
   "source": [
    "### Open up the CSV in Python/Jupyter Notebook"
   ]
  },
  {
   "cell_type": "code",
   "execution_count": 18,
   "id": "5d659143-03fc-4e8d-8de0-1e7d65d3547b",
   "metadata": {},
   "outputs": [],
   "source": [
    "import pandas as pd"
   ]
  },
  {
   "cell_type": "code",
   "execution_count": 53,
   "id": "929e413a-2817-4981-9a46-f3f3a9d14261",
   "metadata": {},
   "outputs": [],
   "source": [
    "df = pd.read_csv('query_results.csv', index_col=0)"
   ]
  },
  {
   "cell_type": "code",
   "execution_count": 54,
   "id": "ad349069-237e-4c20-ac71-c326af476568",
   "metadata": {},
   "outputs": [
    {
     "data": {
      "text/html": [
       "<div>\n",
       "<style scoped>\n",
       "    .dataframe tbody tr th:only-of-type {\n",
       "        vertical-align: middle;\n",
       "    }\n",
       "\n",
       "    .dataframe tbody tr th {\n",
       "        vertical-align: top;\n",
       "    }\n",
       "\n",
       "    .dataframe thead th {\n",
       "        text-align: right;\n",
       "    }\n",
       "</style>\n",
       "<table border=\"1\" class=\"dataframe\">\n",
       "  <thead>\n",
       "    <tr style=\"text-align: right;\">\n",
       "      <th></th>\n",
       "      <th>avg_temp_global</th>\n",
       "      <th>avg_temp_berlin</th>\n",
       "    </tr>\n",
       "    <tr>\n",
       "      <th>year</th>\n",
       "      <th></th>\n",
       "      <th></th>\n",
       "    </tr>\n",
       "  </thead>\n",
       "  <tbody>\n",
       "    <tr>\n",
       "      <th>1750</th>\n",
       "      <td>8.72</td>\n",
       "      <td>9.83</td>\n",
       "    </tr>\n",
       "    <tr>\n",
       "      <th>1751</th>\n",
       "      <td>7.98</td>\n",
       "      <td>9.75</td>\n",
       "    </tr>\n",
       "  </tbody>\n",
       "</table>\n",
       "</div>"
      ],
      "text/plain": [
       "      avg_temp_global  avg_temp_berlin\n",
       "year                                  \n",
       "1750             8.72             9.83\n",
       "1751             7.98             9.75"
      ]
     },
     "execution_count": 54,
     "metadata": {},
     "output_type": "execute_result"
    }
   ],
   "source": [
    "df.head(2)"
   ]
  },
  {
   "cell_type": "code",
   "execution_count": 55,
   "id": "92c815e8-3a98-4836-8499-45213bb41b98",
   "metadata": {},
   "outputs": [
    {
     "data": {
      "text/html": [
       "<div>\n",
       "<style scoped>\n",
       "    .dataframe tbody tr th:only-of-type {\n",
       "        vertical-align: middle;\n",
       "    }\n",
       "\n",
       "    .dataframe tbody tr th {\n",
       "        vertical-align: top;\n",
       "    }\n",
       "\n",
       "    .dataframe thead th {\n",
       "        text-align: right;\n",
       "    }\n",
       "</style>\n",
       "<table border=\"1\" class=\"dataframe\">\n",
       "  <thead>\n",
       "    <tr style=\"text-align: right;\">\n",
       "      <th></th>\n",
       "      <th>avg_temp_global</th>\n",
       "      <th>avg_temp_berlin</th>\n",
       "    </tr>\n",
       "    <tr>\n",
       "      <th>year</th>\n",
       "      <th></th>\n",
       "      <th></th>\n",
       "    </tr>\n",
       "  </thead>\n",
       "  <tbody>\n",
       "    <tr>\n",
       "      <th>2012</th>\n",
       "      <td>9.51</td>\n",
       "      <td>9.96</td>\n",
       "    </tr>\n",
       "    <tr>\n",
       "      <th>2013</th>\n",
       "      <td>9.61</td>\n",
       "      <td>10.12</td>\n",
       "    </tr>\n",
       "  </tbody>\n",
       "</table>\n",
       "</div>"
      ],
      "text/plain": [
       "      avg_temp_global  avg_temp_berlin\n",
       "year                                  \n",
       "2012             9.51             9.96\n",
       "2013             9.61            10.12"
      ]
     },
     "execution_count": 55,
     "metadata": {},
     "output_type": "execute_result"
    }
   ],
   "source": [
    "df.tail(2)"
   ]
  },
  {
   "cell_type": "code",
   "execution_count": 56,
   "id": "17d685fd-a132-4482-9e39-a629058eeff3",
   "metadata": {
    "collapsed": true,
    "jupyter": {
     "outputs_hidden": true
    },
    "tags": []
   },
   "outputs": [
    {
     "name": "stdout",
     "output_type": "stream",
     "text": [
      "<class 'pandas.core.frame.DataFrame'>\n",
      "Int64Index: 264 entries, 1750 to 2013\n",
      "Data columns (total 2 columns):\n",
      " #   Column           Non-Null Count  Dtype  \n",
      "---  ------           --------------  -----  \n",
      " 0   avg_temp_global  264 non-null    float64\n",
      " 1   avg_temp_berlin  264 non-null    float64\n",
      "dtypes: float64(2)\n",
      "memory usage: 6.2 KB\n"
     ]
    }
   ],
   "source": [
    "df.info()"
   ]
  },
  {
   "cell_type": "markdown",
   "id": "7a5f8939-bf02-43d5-8b1d-d44aced5e516",
   "metadata": {},
   "source": [
    "-------------------------------------------"
   ]
  },
  {
   "cell_type": "markdown",
   "id": "84f9f4dd-53fc-408d-acdf-ec79e3d1b244",
   "metadata": {},
   "source": [
    "### Calculating moving averages over 30 years (standard method in meteorology)\n",
    "https://public.wmo.int/en/media/news/updated-30-year-reference-period-reflects-changing-climate"
   ]
  },
  {
   "cell_type": "code",
   "execution_count": 68,
   "id": "12ae4a54-e0fe-4d0a-b8a8-a80963de67a3",
   "metadata": {},
   "outputs": [],
   "source": [
    "df['Global'] = df.avg_temp_global.rolling(30).mean()\n",
    "df['Berlin'] = df.avg_temp_berlin.rolling(30).mean()"
   ]
  },
  {
   "cell_type": "code",
   "execution_count": 69,
   "id": "7a9c7dec-f32e-4805-951c-8a27751a6608",
   "metadata": {},
   "outputs": [
    {
     "data": {
      "text/html": [
       "<div>\n",
       "<style scoped>\n",
       "    .dataframe tbody tr th:only-of-type {\n",
       "        vertical-align: middle;\n",
       "    }\n",
       "\n",
       "    .dataframe tbody tr th {\n",
       "        vertical-align: top;\n",
       "    }\n",
       "\n",
       "    .dataframe thead th {\n",
       "        text-align: right;\n",
       "    }\n",
       "</style>\n",
       "<table border=\"1\" class=\"dataframe\">\n",
       "  <thead>\n",
       "    <tr style=\"text-align: right;\">\n",
       "      <th></th>\n",
       "      <th>avg_temp_global</th>\n",
       "      <th>avg_temp_berlin</th>\n",
       "      <th>Global</th>\n",
       "      <th>Berlin</th>\n",
       "    </tr>\n",
       "    <tr>\n",
       "      <th>year</th>\n",
       "      <th></th>\n",
       "      <th></th>\n",
       "      <th></th>\n",
       "      <th></th>\n",
       "    </tr>\n",
       "  </thead>\n",
       "  <tbody>\n",
       "    <tr>\n",
       "      <th>2011</th>\n",
       "      <td>9.52</td>\n",
       "      <td>10.56</td>\n",
       "      <td>9.222333</td>\n",
       "      <td>9.851667</td>\n",
       "    </tr>\n",
       "    <tr>\n",
       "      <th>2012</th>\n",
       "      <td>9.51</td>\n",
       "      <td>9.96</td>\n",
       "      <td>9.251333</td>\n",
       "      <td>9.847667</td>\n",
       "    </tr>\n",
       "    <tr>\n",
       "      <th>2013</th>\n",
       "      <td>9.61</td>\n",
       "      <td>10.12</td>\n",
       "      <td>9.270667</td>\n",
       "      <td>9.844667</td>\n",
       "    </tr>\n",
       "  </tbody>\n",
       "</table>\n",
       "</div>"
      ],
      "text/plain": [
       "      avg_temp_global  avg_temp_berlin    Global    Berlin\n",
       "year                                                      \n",
       "2011             9.52            10.56  9.222333  9.851667\n",
       "2012             9.51             9.96  9.251333  9.847667\n",
       "2013             9.61            10.12  9.270667  9.844667"
      ]
     },
     "execution_count": 69,
     "metadata": {},
     "output_type": "execute_result"
    }
   ],
   "source": [
    "df.tail(3)"
   ]
  },
  {
   "cell_type": "markdown",
   "id": "4e5a0214-6163-44e7-8142-91d454d4da80",
   "metadata": {},
   "source": [
    "-------------------------------------------"
   ]
  },
  {
   "cell_type": "markdown",
   "id": "f874f3b9-7a0a-45c2-887a-aaf7148b5551",
   "metadata": {},
   "source": [
    "### Creating a line chart that compares your city’s temperatures with the global temperatures"
   ]
  },
  {
   "cell_type": "markdown",
   "id": "a120bf53-d5ba-47e3-a661-30819640c819",
   "metadata": {},
   "source": [
    "chosing matplotlib for visualization, because it's simple and efficient"
   ]
  },
  {
   "cell_type": "code",
   "execution_count": 70,
   "id": "469e9374-a035-48c5-a25e-28055b2caf7f",
   "metadata": {},
   "outputs": [],
   "source": [
    "import matplotlib as plt"
   ]
  },
  {
   "cell_type": "code",
   "execution_count": 73,
   "id": "06a10d19-cae7-4288-9f5c-5818bebb9273",
   "metadata": {},
   "outputs": [
    {
     "data": {
      "text/plain": [
       "Text(0, 0.5, 'Moving Average Temperature over 30 years')"
      ]
     },
     "execution_count": 73,
     "metadata": {},
     "output_type": "execute_result"
    },
    {
     "data": {
      "image/png": "[encoded data removed]",
      "text/plain": [
       "<Figure size 864x432 with 1 Axes>"
      ]
     },
     "metadata": {
      "needs_background": "light"
     },
     "output_type": "display_data"
    }
   ],
   "source": [
    "ax = df1.plot(figsize=(12, 6), title='Weather Trends since 1750')\n",
    "ax.set_xlabel(\"Year\")\n",
    "ax.set_ylabel(\"Moving Average Temperature over 30 years\")"
   ]
  },
  {
   "cell_type": "markdown",
   "id": "fb1e1494-6855-4653-8d87-c96b3d41558d",
   "metadata": {},
   "source": [
    "-------------------------------------------"
   ]
  },
  {
   "cell_type": "markdown",
   "id": "d49a1602-2d03-4c75-8c67-28dba3716d36",
   "metadata": {},
   "source": [
    "### Making observations "
   ]
  },
  {
   "cell_type": "markdown",
   "id": "d2764798-3f0d-4bd0-9174-57e30d31ebf6",
   "metadata": {},
   "source": [
    "about the similarities and differences between the world averages and your city’s averages, as well as overall trends:\n",
    "\n",
    "- Global and Berlin average temperature have both gained around 1 degree since 1750\n",
    "- Overall we can notice a drop of average temperature from 1800 until 1850\n",
    "- Since 1850 the temperature is continously rising, gaining quite some speed around 1980\n",
    "- Berlin appears to be consistantly around 0.5 degrees warmer than the global average\n",
    "- Beetween 1800 and 1850 the gap was eveen wider, spreading over about 1 degree difference\n",
    "\n"
   ]
  }
 ],
 "metadata": {
  "kernelspec": {
   "display_name": "Python 3",
   "language": "python",
   "name": "python3"
  },
  "language_info": {
   "codemirror_mode": {
    "name": "ipython",
    "version": 3
   },
   "file_extension": ".py",
   "mimetype": "text/x-python",
   "name": "python",
   "nbconvert_exporter": "python",
   "pygments_lexer": "ipython3",
   "version": "3.8.8"
  }
 },
 "nbformat": 4,
 "nbformat_minor": 5
}
